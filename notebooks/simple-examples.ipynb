{
 "cells": [
  {
   "cell_type": "markdown",
   "metadata": {},
   "source": [
    "# Simple Examples\n",
    "\n",
    "[source](https://www.gnu.org/software/octave/doc/interpreter/Simple-Examples.html#Simple-Examples)\n",
    "\n",
    "> Copyright \u00a9 1996-2016 John W. Eaton.\n",
    ">\n",
    "> Permission is granted to make and distribute verbatim copies of this manual provided the copyright notice and this permission notice are preserved on all copies.\n",
    ">\n",
    "> Permission is granted to copy and distribute modified versions of this manual under the conditions for verbatim copying, provided that the entire resulting derived work is distributed under the terms of a permission notice identical to this one.\n",
    ">\n",
    "> Permission is granted to copy and distribute translations of this manual into another language, under the above conditions for modified versions.\n",
    "\n",
    "\n",
    "## Elementary Calculations\n",
    "\n",
    "Octave can easily be used for basic numerical calculations. Octave knows about arithmetic operations (`+,-,*,/`), exponentiation (`^`), natural logarithms/exponents (`log`, `exp`), and the trigonometric functions (`sin`, `cos`, \u2026). Moreover, Octave calculations work on real or imaginary numbers (i,j). In addition, some mathematical constants such as the base of the natural logarithm (`e`) and the ratio of a circle\u2019s circumference to its diameter (`pi`) are pre-defined.\n",
    "\n",
    "For example, to verify Euler\u2019s Identity:"
   ]
  },
  {
   "cell_type": "code",
   "metadata": {
    "collapsed": false
   },
   "outputs": [],
   "source": [
    "exp (i * pi)"
   ]
  },
  {
   "cell_type": "markdown",
   "metadata": {},
   "source": [
    "## Creating a Matrix\n",
    "\n",
    "Vectors and matrices are the basic building blocks for numerical analysis. To create a new matrix and store it in a variable so that you can refer to it later, type the command"
   ]
  },
  {
   "cell_type": "code",
   "metadata": {
    "collapsed": false
   },
   "outputs": [],
   "source": [
    "A = [ 1, 1, 2; 3, 5, 8; 13, 21, 34 ]"
   ]
  },
  {
   "cell_type": "markdown",
   "metadata": {},
   "source": [
    "Octave uses a comma or space to separate entries in a row, and a semicolon or carriage return to separate one row from the next. Ending a command with a semicolon tells Octave not to print the result of the command. For example,"
   ]
  },
  {
   "cell_type": "code",
   "metadata": {
    "collapsed": false
   },
   "outputs": [],
   "source": [
    "rand (\"seed\", 0);\n",
    "B = rand (3, 2);"
   ]
  },
  {
   "cell_type": "markdown",
   "metadata": {},
   "source": [
    "To display the value of a variable, simply type the name of the variable at the prompt. For example, to display the value stored in the matrix B, type the command"
   ]
  },
  {
   "cell_type": "code",
   "metadata": {
    "collapsed": false
   },
   "outputs": [],
   "source": [
    "B"
   ]
  },
  {
   "cell_type": "markdown",
   "metadata": {},
   "source": [
    "## Matrix Arithmetic\n",
    "\n",
    "Octave has a convenient operator notation for performing matrix arithmetic. For example, to multiply the matrix A by a scalar value, type the command"
   ]
  },
  {
   "cell_type": "code",
   "metadata": {
    "collapsed": false
   },
   "outputs": [],
   "source": [
    "2 * A"
   ]
  },
  {
   "cell_type": "markdown",
   "metadata": {},
   "source": [
    "To multiply the two matrices A and B,"
   ]
  },
  {
   "cell_type": "code",
   "metadata": {
    "collapsed": false
   },
   "outputs": [],
   "source": [
    "A * B"
   ]
  },
  {
   "cell_type": "markdown",
   "metadata": {},
   "source": [
    "and to form the matrix product transpose (A) * A, type the command"
   ]
  },
  {
   "cell_type": "code",
   "metadata": {
    "collapsed": false
   },
   "outputs": [],
   "source": [
    "A' * A"
   ]
  },
  {
   "cell_type": "markdown",
   "metadata": {},
   "source": [
    "## Solving Systems of Linear Equations\n",
    "\n",
    "Systems of linear equations are ubiquitous in numerical analysis. To solve the set of linear equations Ax = b, use the left division operator, `\\`:"
   ]
  },
  {
   "cell_type": "code",
   "metadata": {
    "collapsed": false
   },
   "outputs": [],
   "source": [
    "b = [1; 1; 1];\n",
    "x = A \\ b"
   ]
  },
  {
   "cell_type": "markdown",
   "metadata": {},
   "source": [
    "This is conceptually equivalent to inv (A) * b, but avoids computing the inverse of a matrix directly.\n",
    "\n",
    "If the coefficient matrix is singular, Octave will print a warning message and compute a minimum norm solution.\n",
    "\n",
    "A simple example comes from chemistry and the need to obtain balanced chemical equations. Consider the burning of hydrogen and oxygen to produce water.\n",
    "\n",
    "```\n",
    "H2 + O2 --> H2O\n",
    "```\n",
    "\n",
    "The equation above is not accurate. The Law of Conservation of Mass requires that the number of molecules of each type balance on the left- and right-hand sides of the equation. Writing the variable overall reaction with individual equations for hydrogen and oxygen one finds:\n",
    "\n",
    "```\n",
    "x1*H2 + x2*O2 --> H2O\n",
    "H: 2*x1 + 0*x2 --> 2\n",
    "O: 0*x1 + 2*x2 --> 1\n",
    "```\n",
    "\n",
    "The solution in Octave is found in just three steps."
   ]
  },
  {
   "cell_type": "code",
   "metadata": {
    "collapsed": false
   },
   "outputs": [],
   "source": [
    "A = [ 2, 0; 0, 2 ];\n",
    "b = [ 2; 1 ];\n",
    "x = A \\ b"
   ]
  },
  {
   "cell_type": "markdown",
   "metadata": {},
   "source": [
    "## Integrating Differential Equations\n",
    "\n",
    "Octave has built-in functions for solving nonlinear differential equations of the form\n",
    "\n",
    "```\n",
    "dx\n",
    "-- = f (x, t)\n",
    "dt\n",
    "```\n",
    "\n",
    "with the initial condition\n",
    "\n",
    "```\n",
    "x(t = t0) = x0\n",
    "```\n",
    "\n",
    "For Octave to integrate equations of this form, you must first provide a definition of the function `f(x,t)`. This is straightforward, and may be accomplished by entering the function body directly on the command line. For example, the following commands define the right-hand side function for an interesting pair of nonlinear differential equations. Note that while you are entering a function, Octave responds with a different prompt, to indicate that it is waiting for you to complete your input."
   ]
  },
  {
   "cell_type": "code",
   "metadata": {
    "collapsed": true
   },
   "outputs": [],
   "source": [
    "function xdot = f (x, t)\n",
    "  r = 0.25;\n",
    "  k = 1.4;\n",
    "  a = 1.5;\n",
    "  b = 0.16;\n",
    "  c = 0.9;\n",
    "  d = 0.8;\n",
    "\n",
    "  xdot(1) = r * x(1) * (1 - x(1)/k) - a * x(1) * x(2) / (1 + b * x(1));\n",
    "  xdot(2) = c * a * x(1) * x(2) / (1 + b * x(1)) - d * x(2);\n",
    "endfunction"
   ]
  },
  {
   "cell_type": "markdown",
   "metadata": {},
   "source": [
    "Given the initial condition"
   ]
  },
  {
   "cell_type": "code",
   "metadata": {
    "collapsed": true
   },
   "outputs": [],
   "source": [
    "x0 = [1; 2];"
   ]
  },
  {
   "cell_type": "markdown",
   "metadata": {},
   "source": [
    "and the set of output times as a column vector (note that the first output time corresponds to the initial condition given above)"
   ]
  },
  {
   "cell_type": "code",
   "metadata": {
    "collapsed": true
   },
   "outputs": [],
   "source": [
    "t = linspace (0, 50, 200)';"
   ]
  },
  {
   "cell_type": "markdown",
   "metadata": {},
   "source": [
    "it is easy to integrate the set of differential equations:"
   ]
  },
  {
   "cell_type": "code",
   "metadata": {
    "collapsed": true
   },
   "outputs": [],
   "source": [
    "x = lsode (\"f\", x0, t);"
   ]
  },
  {
   "cell_type": "markdown",
   "metadata": {},
   "source": [
    "The function lsode uses the Livermore Solver for Ordinary Differential Equations, described in A. C. Hindmarsh, ODEPACK, a Systematized Collection of ODE Solvers, in: Scientific Computing, R. S. Stepleman et al. (Eds.), North-Holland, Amsterdam, 1983, pages 55\u201364."
   ]
  },
  {
   "cell_type": "markdown",
   "metadata": {},
   "source": [
    "## Producing Graphical Output\n",
    "\n",
    "To display the solution of the previous example graphically, use the command"
   ]
  },
  {
   "cell_type": "code",
   "metadata": {
    "collapsed": false
   },
   "outputs": [],
   "source": [
    "plot (t, x)"
   ]
  },
  {
   "cell_type": "markdown",
   "metadata": {},
   "source": [
    "If you are using a graphical user interface, Octave will automatically create a separate window to display the plot.\n",
    "\n",
    "To save a plot once it has been displayed on the screen, use the print command. For example,\n",
    "\n",
    "```\n",
    "print -dpdf foo.pdf\n",
    "```\n",
    "\n",
    "will create a file called foo.pdf that contains a rendering of the current plot in Portable Document Format. The command\n",
    "\n",
    "```\n",
    "help print\n",
    "```\n",
    "\n",
    "explains more options for the print command and provides a list of additional output file formats.\n",
    "\n",
    "## Help and Documentation\n",
    "\n",
    "Octave has an extensive help facility. The same documentation that is available in printed form is also available from the Octave prompt, because both forms of the documentation are created from the same input file.\n",
    "\n",
    "In order to get good help you first need to know the name of the command that you want to use. The name of this function may not always be obvious, but a good place to start is to type help --list. This will show you all the operators, keywords, built-in functions, and loadable functions available in the current session of Octave. An alternative is to search the documentation using the lookfor function.\n",
    "\n",
    "Once you know the name of the function you wish to use, you can get more help on the function by simply including the name as an argument to help. For example,"
   ]
  },
  {
   "cell_type": "code",
   "metadata": {
    "collapsed": false
   },
   "outputs": [],
   "source": [
    "help plot"
   ]
  }
 ],
 "metadata": {
  "kernelspec": {
   "display_name": "Octave",
   "language": "octave",
   "name": "octave"
  },
  "language_info": {
   "file_extension": ".m",
   "help_links": [
    {
     "text": "MetaKernel Magics",
     "url": "https://github.com/calysto/metakernel/blob/master/metakernel/magics/README.md"
    }
   ],
   "mimetype": "text/x-octave",
   "name": "octave",
   "version": "0.16.0"
  }
 },
 "nbformat": 4,
 "nbformat_minor": 0
}