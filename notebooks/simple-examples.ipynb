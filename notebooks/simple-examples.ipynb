{
 "cells": [
  {
   "cell_type": "markdown",
   "metadata": {},
   "source": [
    "# Simple Examples\n",
    "\n",
    "[source](https://www.gnu.org/software/octave/doc/interpreter/Simple-Examples.html#Simple-Examples)\n",
    "\n",
    "## Elementary Calculations\n",
    "\n",
    "Octave can easily be used for basic numerical calculations. Octave knows about arithmetic operations (`+,-,*,/`), exponentiation (`^`), natural logarithms/exponents (`log`, `exp`), and the trigonometric functions (`sin`, `cos`, …). Moreover, Octave calculations work on real or imaginary numbers (i,j). In addition, some mathematical constants such as the base of the natural logarithm (`e`) and the ratio of a circle’s circumference to its diameter (`pi`) are pre-defined.\n",
    "\n",
    "For example, to verify Euler’s Identity:"
   ]
  },
  {
   "cell_type": "code",
   "execution_count": 2,
   "metadata": {
    "collapsed": false
   },
   "outputs": [
    {
     "name": "stdout",
     "output_type": "stream",
     "text": [
      "ans = -1.0000e+00 + 1.2246e-16i\r\n"
     ]
    }
   ],
   "source": [
    "exp (i * pi)"
   ]
  },
  {
   "cell_type": "markdown",
   "metadata": {},
   "source": [
    "## Creating a Matrix\n",
    "\n",
    "Vectors and matrices are the basic building blocks for numerical analysis. To create a new matrix and store it in a variable so that you can refer to it later, type the command"
   ]
  },
  {
   "cell_type": "code",
   "execution_count": 3,
   "metadata": {
    "collapsed": false
   },
   "outputs": [
    {
     "name": "stdout",
     "output_type": "stream",
     "text": [
      "A =\n",
      "\n",
      "    1    1    2\n",
      "    3    5    8\n",
      "   13   21   34\n",
      "\n"
     ]
    }
   ],
   "source": [
    "A = [ 1, 1, 2; 3, 5, 8; 13, 21, 34 ]"
   ]
  },
  {
   "cell_type": "markdown",
   "metadata": {},
   "source": [
    "Octave uses a comma or space to separate entries in a row, and a semicolon or carriage return to separate one row from the next. Ending a command with a semicolon tells Octave not to print the result of the command. For example,"
   ]
  },
  {
   "cell_type": "code",
   "execution_count": 4,
   "metadata": {
    "collapsed": true
   },
   "outputs": [],
   "source": [
    "B = rand (3, 2);"
   ]
  }
 ],
 "metadata": {
  "kernelspec": {
   "display_name": "Octave",
   "language": "octave",
   "name": "octave"
  },
  "language_info": {
   "file_extension": ".m",
   "help_links": [
    {
     "text": "MetaKernel Magics",
     "url": "https://github.com/calysto/metakernel/blob/master/metakernel/magics/README.md"
    }
   ],
   "mimetype": "text/x-octave",
   "name": "octave",
   "version": "0.16.0"
  }
 },
 "nbformat": 4,
 "nbformat_minor": 0
}
