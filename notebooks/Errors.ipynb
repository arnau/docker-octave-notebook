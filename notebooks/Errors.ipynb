{
 "cells": [
  {
   "cell_type": "markdown",
   "metadata": {},
   "source": [
    "# How Octave Reports Errors\n",
    "\n",
    "[source](https://www.gnu.org/software/octave/doc/interpreter/Errors.html#Errors)\n",
    "\n",
    "> Copyright \u00a9 1996-2016 John W. Eaton.\n",
    ">\n",
    "> Permission is granted to make and distribute verbatim copies of this manual provided the copyright notice and this permission notice are preserved on all copies.\n",
    ">\n",
    "> Permission is granted to copy and distribute modified versions of this manual under the conditions for verbatim copying, provided that the entire resulting derived work is distributed under the terms of a permission notice identical to this one.\n",
    ">\n",
    "> Permission is granted to copy and distribute translations of this manual into another language, under the above conditions for modified versions.\n",
    "\n",
    "\n",
    "Octave reports two kinds of errors for invalid programs.\n",
    "\n",
    "A parse error occurs if Octave cannot understand something you have typed. For example, if you misspell a keyword,"
   ]
  },
  {
   "cell_type": "code",
   "metadata": {
    "collapsed": false
   },
   "outputs": [],
   "source": [
    "function y = f (x) y = x***2; endfunction"
   ]
  },
  {
   "cell_type": "markdown",
   "metadata": {},
   "source": [
    "For most parse errors, Octave uses a caret (`^`) to mark the point on the line where it was unable to make sense of your input. In this case, Octave generated an error message because the keyword for exponentiation (`**`) was misspelled. It marked the error at the third `*` because the code leading up to this was correct but the final `*` was not understood.\n",
    "\n",
    "Another class of error message occurs at evaluation time. These errors are called run-time errors, or sometimes evaluation errors, because they occur when your program is being run, or evaluated. For example, if after correcting the mistake in the previous function definition,"
   ]
  },
  {
   "cell_type": "code",
   "metadata": {
    "collapsed": true
   },
   "outputs": [],
   "source": [
    "function y = f (x) y = x**2; endfunction"
   ]
  },
  {
   "cell_type": "markdown",
   "metadata": {},
   "source": [
    " you type"
   ]
  },
  {
   "cell_type": "code",
   "metadata": {
    "collapsed": false
   },
   "outputs": [],
   "source": [
    "f ()"
   ]
  },
  {
   "cell_type": "markdown",
   "metadata": {},
   "source": [
    "This error message has several parts, and gives quite a bit of information to help you locate the source of the error. The messages are generated from the point of the innermost error, and provide a traceback of enclosing expressions and function calls.\n",
    "\n",
    "In the example above, the first line indicates that a variable named `x` was found to be undefined near line 1 and column 24 of some function or expression. For errors occurring within functions, lines are counted from the beginning of the file containing the function definition. For errors occurring outside of an enclosing function, the line number indicates the input line number, which is usually displayed in the primary prompt string.\n",
    "\n",
    "The second and third lines of the error message indicate that the error occurred within the function f. If the function f had been called from within another function, for example, g, the list of errors would have ended with one more line:\n",
    "\n",
    "```\n",
    "error:   g at line 1, column 17\n",
    "```\n",
    "\n",
    "These lists of function calls make it fairly easy to trace the path your program took before the error occurred, and to correct the error before trying again."
   ]
  }
 ],
 "metadata": {
  "kernelspec": {
   "display_name": "Octave",
   "language": "octave",
   "name": "octave"
  },
  "language_info": {
   "file_extension": ".m",
   "help_links": [
    {
     "text": "MetaKernel Magics",
     "url": "https://github.com/calysto/metakernel/blob/master/metakernel/magics/README.md"
    }
   ],
   "mimetype": "text/x-octave",
   "name": "octave",
   "version": "0.16.0"
  }
 },
 "nbformat": 4,
 "nbformat_minor": 0
}