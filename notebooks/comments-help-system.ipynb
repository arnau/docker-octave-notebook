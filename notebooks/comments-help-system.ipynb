{
 "cells": [
  {
   "cell_type": "markdown",
   "metadata": {},
   "source": [
    "# Comments and the Help System\n",
    "\n",
    "[source](https://www.gnu.org/software/octave/doc/interpreter/Comments-and-the-Help-System.html#Comments-and-the-Help-System)\n",
    "\n",
    "> Copyright \u00a9 1996-2016 John W. Eaton.\n",
    ">\n",
    "> Permission is granted to make and distribute verbatim copies of this manual provided the copyright notice and this permission notice are preserved on all copies.\n",
    ">\n",
    "> Permission is granted to copy and distribute modified versions of this manual under the conditions for verbatim copying, provided that the entire resulting derived work is distributed under the terms of a permission notice identical to this one.\n",
    ">\n",
    "> Permission is granted to copy and distribute translations of this manual into another language, under the above conditions for modified versions.\n",
    "\n",
    "The help command is able to find the first block of comments in a function and return those as a documentation string. This means that the same commands used to get help on built-in functions are available for properly formatted user-defined functions. For example, after defining the function `f` below,"
   ]
  },
  {
   "cell_type": "code",
   "metadata": {
    "collapsed": false
   },
   "outputs": [],
   "source": [
    "function xdot = f (x, t)\n",
    "\n",
    "# usage: f (x, t)\n",
    "#\n",
    "# This function defines the right-hand\n",
    "# side functions for a set of nonlinear\n",
    "# differential equations.\n",
    "\n",
    "  r = 0.25;\n",
    "  k = 1.4;\n",
    "  a = 1.5;\n",
    "  b = 0.16;\n",
    "  c = 0.9;\n",
    "  d = 0.8;\n",
    "\n",
    "  xdot(1) = r*x(1)*(1 - x(1)/k) - a*x(1)*x(2)/(1 + b*x(1));\n",
    "  xdot(2) = c*a*x(1)*x(2)/(1 + b*x(1)) - d*x(2);\n",
    "endfunction"
   ]
  },
  {
   "cell_type": "code",
   "metadata": {
    "collapsed": false
   },
   "outputs": [],
   "source": [
    "help f"
   ]
  },
  {
   "cell_type": "markdown",
   "metadata": {},
   "source": [
    "The help parser currently only recognizes single line comments and not block comments for the initial help text."
   ]
  }
 ],
 "metadata": {
  "kernelspec": {
   "display_name": "Octave",
   "language": "octave",
   "name": "octave"
  },
  "language_info": {
   "file_extension": ".m",
   "help_links": [
    {
     "text": "MetaKernel Magics",
     "url": "https://github.com/calysto/metakernel/blob/master/metakernel/magics/README.md"
    }
   ],
   "mimetype": "text/x-octave",
   "name": "octave",
   "version": "0.16.0"
  }
 },
 "nbformat": 4,
 "nbformat_minor": 0
}